{
 "cells": [
  {
   "cell_type": "code",
   "execution_count": 1,
   "metadata": {},
   "outputs": [],
   "source": [
    "from selenium import webdriver"
   ]
  },
  {
   "cell_type": "code",
   "execution_count": 8,
   "metadata": {},
   "outputs": [],
   "source": [
    "browser = webdriver.Chrome(executable_path='./chromedriver_linux64/chromedriver')"
   ]
  },
  {
   "cell_type": "code",
   "execution_count": 11,
   "metadata": {},
   "outputs": [],
   "source": [
    "browser.get(\"https://www.seleniumhq.org\")"
   ]
  },
  {
   "cell_type": "code",
   "execution_count": 10,
   "metadata": {},
   "outputs": [],
   "source": [
    "download = browser.find_element_by_link_text(\"Downloads\")\n",
    "download.click()"
   ]
  },
  {
   "cell_type": "code",
   "execution_count": 12,
   "metadata": {},
   "outputs": [],
   "source": [
    "search = browser.find_element_by_id(\"gsc-i-id1\")\n",
    "search.send_keys(\"Downloads\")"
   ]
  },
  {
   "cell_type": "markdown",
   "metadata": {},
   "source": [
    "**WHATSAPP**"
   ]
  },
  {
   "cell_type": "code",
   "execution_count": 48,
   "metadata": {},
   "outputs": [],
   "source": [
    "from selenium.webdriver.support import expected_conditions as ec\n",
    "from selenium.webdriver.support.ui import WebDriverWait\n",
    "from selenium.webdriver.common.keys import Keys\n",
    "from selenium.webdriver.common.by import By\n",
    "import time\n",
    "from time import sleep"
   ]
  },
  {
   "cell_type": "code",
   "execution_count": 47,
   "metadata": {},
   "outputs": [],
   "source": [
    "browser = webdriver.Chrome(executable_path='./chromedriver_linux64/chromedriver')\n",
    "browser.get(\"https://web.whatsapp.com/\")\n",
    "\n",
    "wait = WebDriverWait(browser, 600)\n",
    "\n",
    "target = '\"Day\"'\n",
    "string = \"Using python jorge\"\n",
    "\n",
    "x_arg = '//span[contains(@title,' + target + ')]'\n",
    "targetd = wait.until(ec.presence_of_element_located((By.XPATH, x_arg)))\n",
    "targetd.click()\n",
    "\n",
    "input_box = browser.find_element_by_class_name(\"_1Plpp\")\n",
    "for i in range(10): \n",
    "    input_box.send_keys(string + Keys.ENTER) \n",
    "    time.sleep(1) "
   ]
  },
  {
   "cell_type": "code",
   "execution_count": null,
   "metadata": {},
   "outputs": [],
   "source": [
    "browser = webdriver.Chrome(executable_path='./chromedriver_linux64/chromedriver')\n",
    "browser.get(\"https://web.whatsapp.com/\")\n",
    "\n",
    "wait = WebDriverWait(browser, 600)\n",
    "\n",
    "target = '\"Day\"'\n",
    "string = input(\"Enter the message\")\n",
    "file_path = input(\"Enter the file path\")\n",
    "\n",
    "\n",
    "x_arg = '//span[contains(@title,' + target + ')]'\n",
    "targetd = wait.until(ec.presence_of_element_located((By.XPATH, x_arg)))\n",
    "targetd.click()\n",
    "\n",
    "input_box = browser.find_element_by_class_name(\"_1Plpp\")\n",
    "for i in range(10): \n",
    "    input_box.send_keys(string + Keys.ENTER) \n",
    "    time.sleep(1) "
   ]
  },
  {
   "cell_type": "markdown",
   "metadata": {},
   "source": [
    "**Sending photos or videos**"
   ]
  },
  {
   "cell_type": "code",
   "execution_count": 49,
   "metadata": {},
   "outputs": [
    {
     "name": "stdout",
     "output_type": "stream",
     "text": [
      "Enter the messagehi\n",
      "Enter the file path/home/karen/projects/anaconda/wsp-auto/a.png\n"
     ]
    }
   ],
   "source": [
    "target = '\"Day\"'\n",
    "string = input(\"Enter the message\")\n",
    "file_path = input(\"Enter the file path\")"
   ]
  },
  {
   "cell_type": "code",
   "execution_count": 53,
   "metadata": {},
   "outputs": [],
   "source": [
    "browser = webdriver.Chrome(executable_path='./chromedriver_linux64/chromedriver')\n",
    "browser.get(\"https://web.whatsapp.com/\")\n",
    "\n",
    "wait = WebDriverWait(browser, 600)\n",
    "\n",
    "x_arg = '//span[contains(@title,' + target + ')]'\n",
    "targetd = wait.until(ec.presence_of_element_located((By.XPATH, x_arg)))\n",
    "targetd.click()\n",
    "\n",
    "input_box = browser.find_element_by_class_name(\"_1Plpp\")\n",
    "for i in range(2): \n",
    "    input_box.send_keys(string + Keys.ENTER) \n",
    "    time.sleep(1) \n",
    "\n",
    "attachment_section = browser.find_element_by_xpath('//div[@title = \"Adjuntar\"]')\n",
    "attachment_section.click()\n",
    "\n",
    "image_box = browser.find_element_by_xpath('//input[@accept=\"image/*,video/mp4,video/3gpp,video/quicktime\"]')\n",
    "image_box.send_keys(file_path)\n",
    "\n",
    "sleep(3)\n",
    "\n",
    "send_button = browser.find_element_by_xpath('//span[@data-icon=\"send-light\"]')\n",
    "send_button.click()"
   ]
  }
 ],
 "metadata": {
  "kernelspec": {
   "display_name": "Python 3.6.9 64-bit",
   "language": "python",
   "name": "python36964bitbb714923c0d043248a89294abdaf2bc3"
  },
  "language_info": {
   "codemirror_mode": {
    "name": "ipython",
    "version": 3
   },
   "file_extension": ".py",
   "mimetype": "text/x-python",
   "name": "python",
   "nbconvert_exporter": "python",
   "pygments_lexer": "ipython3",
   "version": "3.6.9"
  }
 },
 "nbformat": 4,
 "nbformat_minor": 4
}
